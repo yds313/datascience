{
 "cells": [
  {
   "cell_type": "markdown",
   "id": "09c3240f",
   "metadata": {},
   "source": [
    "# Datascience Tools And Ecosystem"
   ]
  },
  {
   "cell_type": "markdown",
   "id": "8434b9df",
   "metadata": {},
   "source": [
    "In this notebook, Data Science Tools and Ecosystem are summarized."
   ]
  },
  {
   "cell_type": "markdown",
   "id": "27b5441c",
   "metadata": {},
   "source": [
    "Some of the popular languages that Data Scientists use are:"
   ]
  },
  {
   "cell_type": "markdown",
   "id": "dff366a3",
   "metadata": {},
   "source": [
    "ordered list"
   ]
  },
  {
   "cell_type": "markdown",
   "id": "d258da0d",
   "metadata": {},
   "source": [
    "1.Python\n",
    "2.R\n",
    "3.SQL"
   ]
  },
  {
   "cell_type": "markdown",
   "id": "7a702e36",
   "metadata": {},
   "source": [
    "Some of the commonly used libraries used by Data Scientists include:"
   ]
  },
  {
   "cell_type": "markdown",
   "id": "6292f2e7",
   "metadata": {},
   "source": [
    "ordered list"
   ]
  },
  {
   "cell_type": "markdown",
   "id": "2aade448",
   "metadata": {},
   "source": [
    "1.Numpy\n",
    "2.Pandas\n",
    "3.Maplotlib"
   ]
  },
  {
   "cell_type": "markdown",
   "id": "159cf2cf",
   "metadata": {},
   "source": [
    "| --- |\n",
    "| Datascience tools |\n",
    "| --- |\n",
    "| 1.jupyter notebook|\n",
    "| --- |\n",
    "|2.collab Notebook|\n",
    "| --- |\n",
    "| jupyter lab |"
   ]
  },
  {
   "cell_type": "markdown",
   "id": "9660ae34",
   "metadata": {},
   "source": [
    "This a simple arithmetic expression to mutiply then add integers."
   ]
  },
  {
   "cell_type": "code",
   "execution_count": 1,
   "id": "d632e553",
   "metadata": {},
   "outputs": [
    {
     "data": {
      "text/plain": [
       "17"
      ]
     },
     "execution_count": 1,
     "metadata": {},
     "output_type": "execute_result"
    }
   ],
   "source": [
    "(3*4+5)"
   ]
  },
  {
   "cell_type": "markdown",
   "id": "493b3c7d",
   "metadata": {},
   "source": [
    "converting 300 minutes into hours"
   ]
  },
  {
   "cell_type": "markdown",
   "id": "4570b2ae",
   "metadata": {},
   "source": [
    "with this expression we can acheive the required output 300/5"
   ]
  },
  {
   "cell_type": "code",
   "execution_count": 2,
   "id": "ca6a53dd",
   "metadata": {},
   "outputs": [
    {
     "data": {
      "text/plain": [
       "60.0"
      ]
     },
     "execution_count": 2,
     "metadata": {},
     "output_type": "execute_result"
    }
   ],
   "source": [
    "300/5"
   ]
  },
  {
   "cell_type": "code",
   "execution_count": 3,
   "id": "1c001153",
   "metadata": {},
   "outputs": [
    {
     "ename": "NameError",
     "evalue": "name 'ab' is not defined",
     "output_type": "error",
     "traceback": [
      "\u001b[1;31m---------------------------------------------------------------------------\u001b[0m",
      "\u001b[1;31mNameError\u001b[0m                                 Traceback (most recent call last)",
      "Cell \u001b[1;32mIn[3], line 1\u001b[0m\n\u001b[1;32m----> 1\u001b[0m \u001b[43mab\u001b[49m\n",
      "\u001b[1;31mNameError\u001b[0m: name 'ab' is not defined"
     ]
    }
   ],
   "source": [
    "ab"
   ]
  },
  {
   "cell_type": "markdown",
   "id": "d4e673aa",
   "metadata": {},
   "source": [
    "above 60 is minutes for a hour.\n",
    "to find hours"
   ]
  },
  {
   "cell_type": "code",
   "execution_count": 4,
   "id": "f4ee1912",
   "metadata": {},
   "outputs": [
    {
     "data": {
      "text/plain": [
       "5.0"
      ]
     },
     "execution_count": 4,
     "metadata": {},
     "output_type": "execute_result"
    }
   ],
   "source": [
    "300/60"
   ]
  },
  {
   "cell_type": "markdown",
   "id": "f9202619",
   "metadata": {},
   "source": [
    "now it is as expected"
   ]
  },
  {
   "cell_type": "markdown",
   "id": "3228f2d1",
   "metadata": {},
   "source": [
    "after conversion of 300 minutes we got 5 as output and 5 is hours"
   ]
  },
  {
   "cell_type": "markdown",
   "id": "1544d82d",
   "metadata": {},
   "source": [
    " Insert a markdown cell to list Objectives"
   ]
  },
  {
   "cell_type": "markdown",
   "id": "20a56afb",
   "metadata": {},
   "source": [
    "# objectives"
   ]
  },
  {
   "cell_type": "code",
   "execution_count": 5,
   "id": "03fe3883",
   "metadata": {},
   "outputs": [],
   "source": [
    "## .lanquages used in datascience"
   ]
  },
  {
   "cell_type": "markdown",
   "id": "1fc47430",
   "metadata": {},
   "source": [
    "## .lanquages used in datascience"
   ]
  },
  {
   "cell_type": "markdown",
   "id": "daa88ecb",
   "metadata": {},
   "source": [
    "## . libraries used in datascience\n",
    "## . arithmatic expression"
   ]
  },
  {
   "cell_type": "markdown",
   "id": "b3183679",
   "metadata": {},
   "source": [
    "# Author"
   ]
  },
  {
   "cell_type": "code",
   "execution_count": 6,
   "id": "085d5119",
   "metadata": {},
   "outputs": [
    {
     "ename": "SyntaxError",
     "evalue": "invalid syntax (818921566.py, line 1)",
     "output_type": "error",
     "traceback": [
      "\u001b[1;36m  Cell \u001b[1;32mIn[6], line 1\u001b[1;36m\u001b[0m\n\u001b[1;33m    Durga satish yarra\u001b[0m\n\u001b[1;37m          ^\u001b[0m\n\u001b[1;31mSyntaxError\u001b[0m\u001b[1;31m:\u001b[0m invalid syntax\n"
     ]
    }
   ],
   "source": [
    "Durga satish yarra"
   ]
  },
  {
   "cell_type": "markdown",
   "id": "8d030f9d",
   "metadata": {},
   "source": [
    "#author\n",
    "Durga satish yarra"
   ]
  },
  {
   "cell_type": "markdown",
   "id": "57ba2c7f",
   "metadata": {},
   "source": [
    "#author"
   ]
  },
  {
   "cell_type": "markdown",
   "id": "ce668924",
   "metadata": {},
   "source": [
    "# author \n",
    "Durga satish yarra"
   ]
  },
  {
   "cell_type": "code",
   "execution_count": null,
   "id": "9d31482a",
   "metadata": {},
   "outputs": [],
   "source": []
  }
 ],
 "metadata": {
  "kernelspec": {
   "display_name": "Python 3 (ipykernel)",
   "language": "python",
   "name": "python3"
  },
  "language_info": {
   "codemirror_mode": {
    "name": "ipython",
    "version": 3
   },
   "file_extension": ".py",
   "mimetype": "text/x-python",
   "name": "python",
   "nbconvert_exporter": "python",
   "pygments_lexer": "ipython3",
   "version": "3.10.9"
  }
 },
 "nbformat": 4,
 "nbformat_minor": 5
}
